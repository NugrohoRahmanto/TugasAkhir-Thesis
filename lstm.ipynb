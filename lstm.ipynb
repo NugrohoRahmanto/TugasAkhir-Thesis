{
 "cells": [
  {
   "cell_type": "code",
   "execution_count": 1,
   "id": "e6de102f",
   "metadata": {},
   "outputs": [],
   "source": [
    "import os\n",
    "import numpy as np\n",
    "import pandas as pd\n",
    "from glob import glob\n",
    "import tensorflow as tf\n",
    "from tensorflow.keras import layers, models, utils, callbacks, Input, Model\n",
    "from sklearn.metrics import classification_report, confusion_matrix\n",
    "import matplotlib.pyplot as plt\n",
    "import seaborn as sns\n",
    "from sklearn.model_selection import train_test_split\n",
    "from scipy.signal import savgol_filter"
   ]
  },
  {
   "cell_type": "code",
   "execution_count": null,
   "id": "bfad8032",
   "metadata": {},
   "outputs": [],
   "source": [
    "def load_npz_data(data_dir, prefix):\n",
    "    Xfile = np.load(f\"{data_dir}/X_{prefix}_beats.npz\")\n",
    "    Yfile = np.load(f\"{data_dir}/y_{prefix}_beats.npz\")\n",
    "    # Ambil array pertama (apapun key-nya)\n",
    "    X = Xfile[Xfile.files[0]]\n",
    "    Y = Yfile[Yfile.files[0]]\n",
    "    return X, Y"
   ]
  },
  {
   "cell_type": "code",
   "execution_count": 11,
   "id": "01ba675f",
   "metadata": {},
   "outputs": [
    {
     "name": "stdout",
     "output_type": "stream",
     "text": [
      "Train beats : (15286, 1000, 12) (15286, 5)\n",
      "Valid beats : (4367, 1000, 12) (4367, 5)\n",
      "Test beats  : (2184, 1000, 12) (2184, 5)\n"
     ]
    }
   ],
   "source": [
    "data_dir = 'data_ready_nonsegment'\n",
    "X_train, y_train = load_npz_data(data_dir, 'train')\n",
    "X_val, y_val = load_npz_data(data_dir, 'valid')\n",
    "X_test, y_test = load_npz_data(data_dir, 'test')\n",
    "\n",
    "print(\"Train beats :\", X_train.shape, y_train.shape)\n",
    "print(\"Valid beats :\", X_val.shape, y_val.shape)\n",
    "print(\"Test beats  :\", X_test.shape, y_test.shape)"
   ]
  },
  {
   "cell_type": "code",
   "execution_count": null,
   "id": "84bd6dae",
   "metadata": {},
   "outputs": [],
   "source": [
    "from scipy.signal import butter, filtfilt\n",
    "\n",
    "def butter_lowpass_filter_ecg(X, cutoff=40, fs=100, order=2):\n",
    "    nyq = 0.5 * fs\n",
    "    normal_cutoff = cutoff / nyq\n",
    "    b, a = butter(order, normal_cutoff, btype='low', analog=False)\n",
    "    \n",
    "    # X.shape = (samples, time_steps, channels)\n",
    "    X_filtered = filtfilt(b, a, X, axis=1)  # filter sepanjang axis waktu (1000)\n",
    "    return X_filtered\n",
    "\n",
    "X_train_filtered = butter_lowpass_filter_ecg(X_train, cutoff=40, fs=100)\n",
    "X_val_filtered   = butter_lowpass_filter_ecg(X_val, cutoff=40, fs=100)\n",
    "X_test_filtered  = butter_lowpass_filter_ecg(X_test, cutoff=40, fs=100)"
   ]
  },
  {
   "cell_type": "code",
   "execution_count": null,
   "id": "4f47c755",
   "metadata": {},
   "outputs": [
    {
     "name": "stdout",
     "output_type": "stream",
     "text": [
      "Epoch 1/20\n",
      "\u001b[1m120/120\u001b[0m \u001b[32m━━━━━━━━━━━━━━━━━━━━\u001b[0m\u001b[37m\u001b[0m \u001b[1m216s\u001b[0m 2s/step - accuracy: 0.3841 - loss: 2.0579 - val_accuracy: 0.4573 - val_loss: 2.0033\n",
      "Epoch 2/20\n",
      "\u001b[1m120/120\u001b[0m \u001b[32m━━━━━━━━━━━━━━━━━━━━\u001b[0m\u001b[37m\u001b[0m \u001b[1m224s\u001b[0m 2s/step - accuracy: 0.3718 - loss: 2.1064 - val_accuracy: 0.4578 - val_loss: 2.0026\n",
      "Epoch 3/20\n",
      "\u001b[1m120/120\u001b[0m \u001b[32m━━━━━━━━━━━━━━━━━━━━\u001b[0m\u001b[37m\u001b[0m \u001b[1m229s\u001b[0m 2s/step - accuracy: 0.3698 - loss: 2.0958 - val_accuracy: 0.4578 - val_loss: 1.9936\n",
      "Epoch 4/20\n",
      "\u001b[1m120/120\u001b[0m \u001b[32m━━━━━━━━━━━━━━━━━━━━\u001b[0m\u001b[37m\u001b[0m \u001b[1m232s\u001b[0m 2s/step - accuracy: 0.3549 - loss: 2.0959 - val_accuracy: 0.4578 - val_loss: 1.9780\n",
      "Epoch 5/20\n",
      "\u001b[1m120/120\u001b[0m \u001b[32m━━━━━━━━━━━━━━━━━━━━\u001b[0m\u001b[37m\u001b[0m \u001b[1m236s\u001b[0m 2s/step - accuracy: 0.3533 - loss: 2.1055 - val_accuracy: 0.4578 - val_loss: 2.0118\n",
      "Epoch 6/20\n",
      "\u001b[1m120/120\u001b[0m \u001b[32m━━━━━━━━━━━━━━━━━━━━\u001b[0m\u001b[37m\u001b[0m \u001b[1m243s\u001b[0m 2s/step - accuracy: 0.3410 - loss: 2.1121 - val_accuracy: 0.4578 - val_loss: 2.0273\n",
      "Epoch 7/20\n",
      "\u001b[1m120/120\u001b[0m \u001b[32m━━━━━━━━━━━━━━━━━━━━\u001b[0m\u001b[37m\u001b[0m \u001b[1m252s\u001b[0m 2s/step - accuracy: 0.3536 - loss: 2.1373 - val_accuracy: 0.4578 - val_loss: 2.0831\n",
      "Epoch 8/20\n",
      "\u001b[1m120/120\u001b[0m \u001b[32m━━━━━━━━━━━━━━━━━━━━\u001b[0m\u001b[37m\u001b[0m \u001b[1m256s\u001b[0m 2s/step - accuracy: 0.3351 - loss: 2.1809 - val_accuracy: 0.4580 - val_loss: 1.9989\n",
      "Epoch 9/20\n",
      "\u001b[1m120/120\u001b[0m \u001b[32m━━━━━━━━━━━━━━━━━━━━\u001b[0m\u001b[37m\u001b[0m \u001b[1m256s\u001b[0m 2s/step - accuracy: 0.3362 - loss: 2.1500 - val_accuracy: 0.2489 - val_loss: 2.1834\n",
      "Epoch 10/20\n",
      "\u001b[1m120/120\u001b[0m \u001b[32m━━━━━━━━━━━━━━━━━━━━\u001b[0m\u001b[37m\u001b[0m \u001b[1m286s\u001b[0m 2s/step - accuracy: 0.3131 - loss: 2.2162 - val_accuracy: 0.2489 - val_loss: 2.1186\n",
      "Epoch 11/20\n",
      "\u001b[1m120/120\u001b[0m \u001b[32m━━━━━━━━━━━━━━━━━━━━\u001b[0m\u001b[37m\u001b[0m \u001b[1m291s\u001b[0m 2s/step - accuracy: 0.3325 - loss: 2.1661 - val_accuracy: 0.1775 - val_loss: 2.1345\n",
      "Epoch 12/20\n",
      "\u001b[1m120/120\u001b[0m \u001b[32m━━━━━━━━━━━━━━━━━━━━\u001b[0m\u001b[37m\u001b[0m \u001b[1m299s\u001b[0m 2s/step - accuracy: 0.3223 - loss: 2.1980 - val_accuracy: 0.4578 - val_loss: 2.0310\n",
      "Epoch 13/20\n",
      "\u001b[1m120/120\u001b[0m \u001b[32m━━━━━━━━━━━━━━━━━━━━\u001b[0m\u001b[37m\u001b[0m \u001b[1m301s\u001b[0m 3s/step - accuracy: 0.3346 - loss: 2.1743 - val_accuracy: 0.4578 - val_loss: 2.0751\n",
      "Epoch 14/20\n",
      "\u001b[1m120/120\u001b[0m \u001b[32m━━━━━━━━━━━━━━━━━━━━\u001b[0m\u001b[37m\u001b[0m \u001b[1m294s\u001b[0m 2s/step - accuracy: 0.3229 - loss: 2.2078 - val_accuracy: 0.4578 - val_loss: 2.2081\n",
      "Epoch 15/20\n",
      "\u001b[1m120/120\u001b[0m \u001b[32m━━━━━━━━━━━━━━━━━━━━\u001b[0m\u001b[37m\u001b[0m \u001b[1m302s\u001b[0m 3s/step - accuracy: 0.3329 - loss: 2.1596 - val_accuracy: 0.4578 - val_loss: 2.3656\n",
      "Epoch 16/20\n",
      "\u001b[1m120/120\u001b[0m \u001b[32m━━━━━━━━━━━━━━━━━━━━\u001b[0m\u001b[37m\u001b[0m \u001b[1m296s\u001b[0m 2s/step - accuracy: 0.3248 - loss: 2.2121 - val_accuracy: 0.2489 - val_loss: 2.0546\n",
      "Epoch 17/20\n",
      "\u001b[1m120/120\u001b[0m \u001b[32m━━━━━━━━━━━━━━━━━━━━\u001b[0m\u001b[37m\u001b[0m \u001b[1m302s\u001b[0m 3s/step - accuracy: 0.3267 - loss: 2.1756 - val_accuracy: 0.4578 - val_loss: 2.2394\n",
      "Epoch 18/20\n",
      "\u001b[1m120/120\u001b[0m \u001b[32m━━━━━━━━━━━━━━━━━━━━\u001b[0m\u001b[37m\u001b[0m \u001b[1m273s\u001b[0m 2s/step - accuracy: 0.3183 - loss: 2.2379 - val_accuracy: 0.4578 - val_loss: 2.1483\n",
      "Epoch 19/20\n",
      "\u001b[1m120/120\u001b[0m \u001b[32m━━━━━━━━━━━━━━━━━━━━\u001b[0m\u001b[37m\u001b[0m \u001b[1m259s\u001b[0m 2s/step - accuracy: 0.3266 - loss: 2.2066 - val_accuracy: 0.4578 - val_loss: 2.2694\n",
      "Epoch 20/20\n",
      "\u001b[1m120/120\u001b[0m \u001b[32m━━━━━━━━━━━━━━━━━━━━\u001b[0m\u001b[37m\u001b[0m \u001b[1m265s\u001b[0m 2s/step - accuracy: 0.3172 - loss: 2.2846 - val_accuracy: 0.2489 - val_loss: 2.1361\n",
      "\u001b[1m69/69\u001b[0m \u001b[32m━━━━━━━━━━━━━━━━━━━━\u001b[0m\u001b[37m\u001b[0m \u001b[1m7s\u001b[0m 101ms/step - accuracy: 0.2588 - loss: 2.0721\n",
      "Test Loss : 2.1012\n",
      "Test Accuracy : 0.2573\n"
     ]
    }
   ],
   "source": [
    "from tensorflow.keras.models import Sequential\n",
    "from tensorflow.keras.layers import LSTM, Dense, Dropout\n",
    "from tensorflow.keras.utils import plot_model\n",
    "from sklearn.metrics import confusion_matrix, ConfusionMatrixDisplay, classification_report\n",
    "import matplotlib.pyplot as plt\n",
    "\n",
    "# Arsitektur stacked LSTM\n",
    "model = Sequential([\n",
    "    LSTM(128, return_sequences=True, input_shape=(1000, 12)),\n",
    "    Dropout(0.3),\n",
    "    LSTM(64),\n",
    "    Dropout(0.3),\n",
    "    Dense(32, activation='relu'),\n",
    "    Dense(5, activation='softmax')  # output untuk 5 kelas\n",
    "])\n",
    "\n",
    "model.compile(optimizer='adam', loss='categorical_crossentropy', metrics=['accuracy'])\n",
    "\n",
    "# Melatih model\n",
    "history = model.fit(\n",
    "    X_train_filtered, y_train,\n",
    "    validation_data=(X_val_filtered, y_val),\n",
    "    epochs=20,\n",
    "    batch_size=128\n",
    ")\n",
    "\n",
    "# Evaluasi\n",
    "loss, acc = model.evaluate(X_test, X_test_filtered)\n",
    "print(f\"Test Loss : {loss:.4f}\")\n",
    "print(f\"Test Accuracy : {acc:.4f}\")\n"
   ]
  },
  {
   "cell_type": "code",
   "execution_count": null,
   "id": "dc8afde8",
   "metadata": {},
   "outputs": [],
   "source": [
    "plt.figure(figsize=(12, 5))\n",
    "\n",
    "plt.subplot(1, 2, 1)\n",
    "plt.plot(history.history['accuracy'], label='Train Acc')\n",
    "plt.plot(history.history['val_accuracy'], label='Val Acc')\n",
    "plt.title('Model Accuracy')\n",
    "plt.xlabel('Epoch')\n",
    "plt.ylabel('Accuracy')\n",
    "plt.legend()\n",
    "\n",
    "plt.subplot(1, 2, 2)\n",
    "plt.plot(history.history['loss'], label='Train Loss')\n",
    "plt.plot(history.history['val_loss'], label='Val Loss')\n",
    "plt.title('Model Loss')\n",
    "plt.xlabel('Epoch')\n",
    "plt.ylabel('Loss')\n",
    "plt.legend()\n",
    "\n",
    "plt.tight_layout()\n",
    "plt.show()\n",
    "\n",
    "# =============================\n",
    "# 7. Confusion Matrix\n",
    "# =============================\n",
    "y_pred_prob = model.predict(X_test_filtered)\n",
    "y_pred = np.argmax(y_pred_prob, axis=1)\n",
    "y_true = np.argmax(y_test, axis=1)\n",
    "\n",
    "cm = confusion_matrix(y_true, y_pred)\n",
    "labels = [f'Class {i}' for i in range(5)]\n",
    "\n",
    "disp = ConfusionMatrixDisplay(confusion_matrix=cm, display_labels=labels)\n",
    "fig, ax = plt.subplots(figsize=(7, 7))\n",
    "disp.plot(ax=ax, cmap='Blues', values_format='d')\n",
    "plt.title(\"Confusion Matrix\")\n",
    "plt.show()\n",
    "\n",
    "print(\"Classification Report:\\n\")\n",
    "print(classification_report(y_true, y_pred, target_names=labels))"
   ]
  }
 ],
 "metadata": {
  "kernelspec": {
   "display_name": "Python 3",
   "language": "python",
   "name": "python3"
  },
  "language_info": {
   "codemirror_mode": {
    "name": "ipython",
    "version": 3
   },
   "file_extension": ".py",
   "mimetype": "text/x-python",
   "name": "python",
   "nbconvert_exporter": "python",
   "pygments_lexer": "ipython3",
   "version": "3.12.6"
  }
 },
 "nbformat": 4,
 "nbformat_minor": 5
}
